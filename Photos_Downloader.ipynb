{
  "nbformat": 4,
  "nbformat_minor": 0,
  "metadata": {
    "colab": {
      "name": "Photos_Downloader",
      "provenance": [],
      "collapsed_sections": [],
      "toc_visible": true,
      "include_colab_link": true
    },
    "kernelspec": {
      "name": "python3",
      "display_name": "Python 3"
    }
  },
  "cells": [
    {
      "cell_type": "markdown",
      "metadata": {
        "id": "view-in-github",
        "colab_type": "text"
      },
      "source": [
        "<a href=\"https://colab.research.google.com/github/leoagneau/Bib_Racer/blob/master/Photos_Downloader.ipynb\" target=\"_parent\"><img src=\"https://colab.research.google.com/assets/colab-badge.svg\" alt=\"Open In Colab\"/></a>"
      ]
    },
    {
      "cell_type": "code",
      "metadata": {
        "id": "4B5Ls5vx4FIQ",
        "colab_type": "code",
        "colab": {}
      },
      "source": [
        "from bs4 import BeautifulSoup\n",
        "import urllib\n",
        "import time\n",
        "import os\n",
        "import requests"
      ],
      "execution_count": 0,
      "outputs": []
    },
    {
      "cell_type": "code",
      "metadata": {
        "id": "hK61Z7PkOU0N",
        "colab_type": "code",
        "outputId": "18e2abef-9c14-44b1-8578-5a9c51c5bfe7",
        "colab": {
          "base_uri": "https://localhost:8080/",
          "height": 121
        }
      },
      "source": [
        "# Mount Google Drive\n",
        "from google.colab import drive\n",
        "drive.mount('/content/drive')\n",
        "# Set data path\n",
        "root_dir = '/content/drive/My Drive/'\n",
        "data_path = root_dir + 'ML_Projects/Bib_Racer/data/'\n",
        "img_path = data_path + 'images/'\n",
        "if not os.path.exists(img_path):\n",
        "  os.makedirs(img_path)\n",
        "os.chdir(img_path)"
      ],
      "execution_count": 0,
      "outputs": [
        {
          "output_type": "stream",
          "text": [
            "Go to this URL in a browser: https://accounts.google.com/o/oauth2/auth?client_id=947318989803-6bn6qk8qdgf4n4g3pfee6491hc0brc4i.apps.googleusercontent.com&redirect_uri=urn%3aietf%3awg%3aoauth%3a2.0%3aoob&response_type=code&scope=email%20https%3a%2f%2fwww.googleapis.com%2fauth%2fdocs.test%20https%3a%2f%2fwww.googleapis.com%2fauth%2fdrive%20https%3a%2f%2fwww.googleapis.com%2fauth%2fdrive.photos.readonly%20https%3a%2f%2fwww.googleapis.com%2fauth%2fpeopleapi.readonly\n",
            "\n",
            "Enter your authorization code:\n",
            "··········\n",
            "Mounted at /content/drive\n"
          ],
          "name": "stdout"
        }
      ]
    },
    {
      "cell_type": "markdown",
      "metadata": {
        "id": "juV0AmH5h0FX",
        "colab_type": "text"
      },
      "source": [
        "## Image scrapping\n",
        "Images avaialble at:\n",
        "- https://hk.running.biji.co/index.php?q=album&act=gallery_album&competition_id=1734\n",
        "- https://www.sportsoho.com/pg/photos/matchalbum/7334600\n",
        "- https://www.run-pic.com/EventAlbum.aspx?eventId=734\n"
      ]
    },
    {
      "cell_type": "markdown",
      "metadata": {
        "id": "BcJYrzenE01K",
        "colab_type": "text"
      },
      "source": [
        "### Install and load Selenium"
      ]
    },
    {
      "cell_type": "code",
      "metadata": {
        "id": "rWGf0GgCI-uV",
        "colab_type": "code",
        "colab": {}
      },
      "source": [
        "# https://stackoverflow.com/questions/51046454/how-can-we-use-selenium-webdriver-in-colab-research-google-com\n",
        "# install chromium, its driver, and selenium:\n",
        "!apt-get update\n",
        "!apt install chromium-chromedriver\n",
        "!cp /usr/lib/chromium-browser/chromedriver /usr/bin\n",
        "!pip install selenium\n",
        "\n",
        "#import sys\n",
        "#sys.path.insert(0,'/usr/lib/chromium-browser/chromedriver')\n",
        "\n",
        "# set options to be headless\n",
        "from selenium import webdriver\n",
        "sln_options = webdriver.ChromeOptions()\n",
        "sln_options.add_argument('--headless')\n",
        "sln_options.add_argument('--no-sandbox')\n",
        "sln_options.add_argument('--disable-dev-shm-usage')"
      ],
      "execution_count": 0,
      "outputs": []
    },
    {
      "cell_type": "markdown",
      "metadata": {
        "id": "MIeJp9Ndii9W",
        "colab_type": "text"
      },
      "source": [
        "### Scrapping site 1 - running biji"
      ]
    },
    {
      "cell_type": "code",
      "metadata": {
        "id": "wlVmRV_B6vQY",
        "colab_type": "code",
        "colab": {}
      },
      "source": [
        "def soup_page(page):\n",
        "    try:\n",
        "      return BeautifulSoup(page, 'lxml')\n",
        "    except:\n",
        "      print(\"Cannot fetch the requested page\")"
      ],
      "execution_count": 0,
      "outputs": []
    },
    {
      "cell_type": "code",
      "metadata": {
        "id": "Wkn6pFOK4l8a",
        "colab_type": "code",
        "colab": {}
      },
      "source": [
        "# Open album page\n",
        "url_bj = \"https://hk.running.biji.co/index.php?q=album&act=gallery_album&competition_id=1734\"\n",
        "albums_page = urllib.request.urlopen(url_bj)\n",
        "soup = soup_page(albums_page)"
      ],
      "execution_count": 0,
      "outputs": []
    },
    {
      "cell_type": "code",
      "metadata": {
        "id": "LxPd274O9VCh",
        "colab_type": "code",
        "outputId": "bccdc24a-bea5-47e1-84e2-bef49c30972d",
        "colab": {
          "base_uri": "https://localhost:8080/",
          "height": 34
        }
      },
      "source": [
        "# Locate albums section and retrieve all album links\n",
        "albums_list = soup.find('ul', attrs={'class': 'gal-grid'})\n",
        "lnks = albums_list.find_all('a')\n",
        "album_pages = []\n",
        "for l in lnks:\n",
        "  album_pages.append('https://hk.running.biji.co'+l['href'])\n",
        "print('{} albums found.'.format(len(album_pages)))"
      ],
      "execution_count": 0,
      "outputs": [
        {
          "output_type": "stream",
          "text": [
            "75 albums found.\n"
          ],
          "name": "stdout"
        }
      ]
    },
    {
      "cell_type": "code",
      "metadata": {
        "id": "idtGh3YGN698",
        "colab_type": "code",
        "colab": {}
      },
      "source": [
        "# Scrape dynamic length page by simulating mouse scrolling https://stackoverflow.com/questions/49088880/scraping-all-results-from-page-with-beautifulsoup\n",
        "def load_page(url):\n",
        "    driver = webdriver.Chrome('chromedriver', options=sln_options)\n",
        "    driver.get(url)\n",
        "    last_height = driver.execute_script(\"return document.body.scrollHeight\")\n",
        "    #print(last_height)\n",
        "    #i=0\n",
        "    while True:\n",
        "      #i+=1\n",
        "      driver.execute_script(\"window.scrollTo(0, document.body.scrollHeight);\")\n",
        "      time.sleep(1.0)\n",
        "      new_height = driver.execute_script(\"return document.body.scrollHeight\")\n",
        "      #print(\"{}-th scroll, new height={}\".format(i, new_height))\n",
        "      if new_height == last_height:\n",
        "        break\n",
        "      last_height = new_height\n",
        "    #print(last_height)\n",
        "    return driver"
      ],
      "execution_count": 0,
      "outputs": []
    },
    {
      "cell_type": "code",
      "metadata": {
        "id": "O8A6ICPQHBHV",
        "colab_type": "code",
        "outputId": "28ede465-c7eb-46b4-ec8b-5feb4b978ab8",
        "colab": {
          "base_uri": "https://localhost:8080/",
          "height": 1000
        }
      },
      "source": [
        "a_num=0\n",
        "for album in album_pages:\n",
        "  photo_page = load_page(album)\n",
        "  a_num+=1\n",
        "  # Retrieve content of the album\n",
        "  soup = soup_page(photo_page.page_source)\n",
        "  photo_list = soup.find_all('img', attrs={'class': 'photo_img'})\n",
        "  print('Album {} contains {} photos.'.format(a_num, len(photo_list)))\n",
        "  # Download photos from an album\n",
        "  for i in range(len(photo_list)):\n",
        "    lnk = photo_list[i]['src'].replace(\"600\", \"1024\")\n",
        "    with open(img_path + os.path.basename(lnk), \"wb\") as f:\n",
        "      f.write(requests.get(lnk).content)\n",
        "  print('Finished processing album {}'.format(a_num))"
      ],
      "execution_count": 0,
      "outputs": [
        {
          "output_type": "stream",
          "text": [
            "Album 1 contains 355 photos.\n",
            "Finished processing album 1\n",
            "Album 2 contains 406 photos.\n",
            "Finished processing album 2\n",
            "Album 3 contains 573 photos.\n",
            "Finished processing album 3\n",
            "Album 4 contains 410 photos.\n",
            "Finished processing album 4\n",
            "Album 5 contains 450 photos.\n",
            "Finished processing album 5\n",
            "Album 6 contains 492 photos.\n",
            "Finished processing album 6\n",
            "Album 7 contains 498 photos.\n",
            "Finished processing album 7\n",
            "Album 8 contains 200 photos.\n",
            "Finished processing album 8\n",
            "Album 9 contains 496 photos.\n",
            "Finished processing album 9\n",
            "Album 10 contains 260 photos.\n",
            "Finished processing album 10\n",
            "Album 11 contains 321 photos.\n",
            "Finished processing album 11\n",
            "Album 12 contains 100 photos.\n",
            "Finished processing album 12\n",
            "Album 13 contains 403 photos.\n",
            "Finished processing album 13\n",
            "Album 14 contains 413 photos.\n",
            "Finished processing album 14\n",
            "Album 15 contains 412 photos.\n",
            "Finished processing album 15\n",
            "Album 16 contains 276 photos.\n",
            "Finished processing album 16\n",
            "Album 17 contains 436 photos.\n",
            "Finished processing album 17\n",
            "Album 18 contains 538 photos.\n",
            "Finished processing album 18\n",
            "Album 19 contains 478 photos.\n",
            "Finished processing album 19\n",
            "Album 20 contains 134 photos.\n",
            "Finished processing album 20\n",
            "Album 21 contains 213 photos.\n",
            "Finished processing album 21\n",
            "Album 22 contains 317 photos.\n",
            "Finished processing album 22\n",
            "Album 23 contains 309 photos.\n",
            "Finished processing album 23\n",
            "Album 24 contains 398 photos.\n",
            "Finished processing album 24\n",
            "Album 25 contains 157 photos.\n",
            "Finished processing album 25\n",
            "Album 26 contains 298 photos.\n",
            "Finished processing album 26\n",
            "Album 27 contains 291 photos.\n",
            "Finished processing album 27\n",
            "Album 28 contains 394 photos.\n",
            "Finished processing album 28\n",
            "Album 29 contains 406 photos.\n",
            "Finished processing album 29\n",
            "Album 30 contains 214 photos.\n",
            "Finished processing album 30\n",
            "Album 31 contains 42 photos.\n",
            "Finished processing album 31\n",
            "Album 32 contains 132 photos.\n",
            "Finished processing album 32\n",
            "Album 33 contains 88 photos.\n",
            "Finished processing album 33\n",
            "Album 34 contains 35 photos.\n",
            "Finished processing album 34\n",
            "Album 35 contains 119 photos.\n",
            "Finished processing album 35\n",
            "Album 36 contains 352 photos.\n",
            "Finished processing album 36\n",
            "Album 37 contains 401 photos.\n",
            "Finished processing album 37\n",
            "Album 38 contains 416 photos.\n",
            "Finished processing album 38\n",
            "Album 39 contains 492 photos.\n",
            "Finished processing album 39\n",
            "Album 40 contains 456 photos.\n",
            "Finished processing album 40\n",
            "Album 41 contains 420 photos.\n",
            "Finished processing album 41\n",
            "Album 42 contains 420 photos.\n",
            "Finished processing album 42\n",
            "Album 43 contains 422 photos.\n",
            "Finished processing album 43\n",
            "Album 44 contains 220 photos.\n",
            "Finished processing album 44\n",
            "Album 45 contains 415 photos.\n",
            "Finished processing album 45\n",
            "Album 46 contains 403 photos.\n",
            "Finished processing album 46\n",
            "Album 47 contains 412 photos.\n",
            "Finished processing album 47\n",
            "Album 48 contains 377 photos.\n",
            "Finished processing album 48\n",
            "Album 49 contains 350 photos.\n",
            "Finished processing album 49\n",
            "Album 50 contains 311 photos.\n",
            "Finished processing album 50\n",
            "Album 51 contains 216 photos.\n",
            "Finished processing album 51\n",
            "Album 52 contains 487 photos.\n",
            "Finished processing album 52\n",
            "Album 53 contains 366 photos.\n",
            "Finished processing album 53\n",
            "Album 54 contains 191 photos.\n",
            "Finished processing album 54\n",
            "Album 55 contains 365 photos.\n",
            "Finished processing album 55\n",
            "Album 56 contains 57 photos.\n",
            "Finished processing album 56\n",
            "Album 57 contains 175 photos.\n",
            "Finished processing album 57\n",
            "Album 58 contains 159 photos.\n",
            "Finished processing album 58\n",
            "Album 59 contains 164 photos.\n",
            "Finished processing album 59\n",
            "Album 60 contains 131 photos.\n",
            "Finished processing album 60\n",
            "Album 61 contains 317 photos.\n",
            "Finished processing album 61\n",
            "Album 62 contains 170 photos.\n",
            "Finished processing album 62\n",
            "Album 63 contains 1492 photos.\n",
            "Finished processing album 63\n",
            "Album 64 contains 366 photos.\n",
            "Finished processing album 64\n",
            "Album 65 contains 455 photos.\n",
            "Finished processing album 65\n",
            "Album 66 contains 450 photos.\n",
            "Finished processing album 66\n",
            "Album 67 contains 160 photos.\n",
            "Finished processing album 67\n",
            "Album 68 contains 48 photos.\n",
            "Finished processing album 68\n",
            "Album 69 contains 325 photos.\n",
            "Finished processing album 69\n",
            "Album 70 contains 311 photos.\n",
            "Finished processing album 70\n",
            "Album 71 contains 549 photos.\n",
            "Finished processing album 71\n",
            "Album 72 contains 1335 photos.\n",
            "Finished processing album 72\n",
            "Album 73 contains 99 photos.\n",
            "Finished processing album 73\n",
            "Album 74 contains 28 photos.\n",
            "Finished processing album 74\n",
            "Album 75 contains 173 photos.\n",
            "Finished processing album 75\n"
          ],
          "name": "stdout"
        }
      ]
    }
  ]
}