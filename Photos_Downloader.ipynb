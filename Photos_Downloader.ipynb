{
  "nbformat": 4,
  "nbformat_minor": 0,
  "metadata": {
    "colab": {
      "name": "Photos_Downloader",
      "provenance": [],
      "collapsed_sections": [],
      "toc_visible": true,
      "include_colab_link": true
    },
    "kernelspec": {
      "name": "python3",
      "display_name": "Python 3"
    }
  },
  "cells": [
    {
      "cell_type": "markdown",
      "metadata": {
        "id": "view-in-github",
        "colab_type": "text"
      },
      "source": [
        "<a href=\"https://colab.research.google.com/github/leoagneau/Bib_Racer/blob/master/Photos_Downloader.ipynb\" target=\"_parent\"><img src=\"https://colab.research.google.com/assets/colab-badge.svg\" alt=\"Open In Colab\"/></a>"
      ]
    },
    {
      "cell_type": "code",
      "metadata": {
        "id": "4B5Ls5vx4FIQ",
        "colab_type": "code",
        "colab": {}
      },
      "source": [
        "from bs4 import BeautifulSoup\n",
        "import urllib\n",
        "import time\n",
        "import os\n",
        "import requests"
      ],
      "execution_count": 0,
      "outputs": []
    },
    {
      "cell_type": "code",
      "metadata": {
        "id": "hK61Z7PkOU0N",
        "colab_type": "code",
        "colab": {}
      },
      "source": [
        "# Mount Google Drive\n",
        "from google.colab import drive\n",
        "drive.mount('/content/drive')\n",
        "# Set data path\n",
        "root_dir = '/content/drive/My Drive/'\n",
        "data_path = root_dir + 'ML_Projects/Bib_Racer/data/'\n",
        "img_path = data_path + 'images/'\n",
        "if not os.path.exists(img_path):\n",
        "  os.makedirs(img_path)\n",
        "os.chdir(img_path)"
      ],
      "execution_count": 0,
      "outputs": []
    },
    {
      "cell_type": "markdown",
      "metadata": {
        "id": "juV0AmH5h0FX",
        "colab_type": "text"
      },
      "source": [
        "## Image scrapping\n",
        "Images avaialble at:\n",
        "- https://hk.running.biji.co/index.php?q=album&act=gallery_album&competition_id=1734\n",
        "- https://www.sportsoho.com/pg/photos/matchalbum/7334600\n",
        "- https://www.run-pic.com/EventAlbum.aspx?eventId=734\n"
      ]
    },
    {
      "cell_type": "markdown",
      "metadata": {
        "id": "BcJYrzenE01K",
        "colab_type": "text"
      },
      "source": [
        "### Install and load Selenium"
      ]
    },
    {
      "cell_type": "code",
      "metadata": {
        "id": "rWGf0GgCI-uV",
        "colab_type": "code",
        "colab": {}
      },
      "source": [
        "# https://stackoverflow.com/questions/51046454/how-can-we-use-selenium-webdriver-in-colab-research-google-com\n",
        "# install chromium, its driver, and selenium:\n",
        "!apt-get update\n",
        "!apt install chromium-chromedriver\n",
        "!cp /usr/lib/chromium-browser/chromedriver /usr/bin\n",
        "!pip install selenium\n",
        "\n",
        "#import sys\n",
        "#sys.path.insert(0,'/usr/lib/chromium-browser/chromedriver')\n",
        "\n",
        "# set options to be headless\n",
        "from selenium import webdriver\n",
        "sln_options = webdriver.ChromeOptions()\n",
        "sln_options.add_argument('--headless')\n",
        "sln_options.add_argument('--no-sandbox')\n",
        "sln_options.add_argument('--disable-dev-shm-usage')"
      ],
      "execution_count": 0,
      "outputs": []
    },
    {
      "cell_type": "markdown",
      "metadata": {
        "id": "MIeJp9Ndii9W",
        "colab_type": "text"
      },
      "source": [
        "### Scrapping site 1 - running biji"
      ]
    },
    {
      "cell_type": "code",
      "metadata": {
        "id": "wlVmRV_B6vQY",
        "colab_type": "code",
        "colab": {}
      },
      "source": [
        "def soup_page(page):\n",
        "    try:\n",
        "      return BeautifulSoup(page, 'lxml')\n",
        "    except:\n",
        "      print(\"Cannot fetch the requested page\")"
      ],
      "execution_count": 0,
      "outputs": []
    },
    {
      "cell_type": "code",
      "metadata": {
        "id": "Wkn6pFOK4l8a",
        "colab_type": "code",
        "colab": {}
      },
      "source": [
        "# Open album page\n",
        "url_bj = \"https://hk.running.biji.co/index.php?q=album&act=gallery_album&competition_id=1734\"\n",
        "albums_page = urllib.request.urlopen(url_bj)\n",
        "soup = soup_page(albums_page)"
      ],
      "execution_count": 0,
      "outputs": []
    },
    {
      "cell_type": "code",
      "metadata": {
        "id": "LxPd274O9VCh",
        "colab_type": "code",
        "outputId": "bccdc24a-bea5-47e1-84e2-bef49c30972d",
        "colab": {
          "base_uri": "https://localhost:8080/",
          "height": 34
        }
      },
      "source": [
        "# Locate albums section and retrieve all album links\n",
        "albums_list = soup.find('ul', attrs={'class': 'gal-grid'})\n",
        "lnks = albums_list.find_all('a')\n",
        "album_pages = []\n",
        "for l in lnks:\n",
        "  album_pages.append('https://hk.running.biji.co'+l['href'])\n",
        "print('{} albums found.'.format(len(album_pages)))"
      ],
      "execution_count": 0,
      "outputs": [
        {
          "output_type": "stream",
          "text": [
            "75 albums found.\n"
          ],
          "name": "stdout"
        }
      ]
    },
    {
      "cell_type": "code",
      "metadata": {
        "id": "idtGh3YGN698",
        "colab_type": "code",
        "colab": {}
      },
      "source": [
        "# Scrape dynamic length page by simulating mouse scrolling https://stackoverflow.com/questions/49088880/scraping-all-results-from-page-with-beautifulsoup\n",
        "def load_page(url):\n",
        "    driver = webdriver.Chrome('chromedriver', options=sln_options)\n",
        "    driver.get(url)\n",
        "    last_height = driver.execute_script(\"return document.body.scrollHeight\")\n",
        "    #print(last_height)\n",
        "    #i=0\n",
        "    while True:\n",
        "      #i+=1\n",
        "      driver.execute_script(\"window.scrollTo(0, document.body.scrollHeight);\")\n",
        "      time.sleep(1.0)\n",
        "      new_height = driver.execute_script(\"return document.body.scrollHeight\")\n",
        "      #print(\"{}-th scroll, new height={}\".format(i, new_height))\n",
        "      if new_height == last_height:\n",
        "        break\n",
        "      last_height = new_height\n",
        "    #print(last_height)\n",
        "    return driver"
      ],
      "execution_count": 0,
      "outputs": []
    },
    {
      "cell_type": "code",
      "metadata": {
        "id": "O8A6ICPQHBHV",
        "colab_type": "code",
        "colab": {}
      },
      "source": [
        "a_num=0\n",
        "for album in album_pages:\n",
        "  photo_page = load_page(album)\n",
        "  a_num+=1\n",
        "  # Retrieve content of the album\n",
        "  soup = soup_page(photo_page.page_source)\n",
        "  photo_list = soup.find_all('img', attrs={'class': 'photo_img'})\n",
        "  print('Album {} contains {} photos.'.format(a_num, len(photo_list)))\n",
        "  # Download photos from an album\n",
        "  for i in range(len(photo_list)):\n",
        "    lnk = photo_list[i]['src'].replace(\"600\", \"1024\")\n",
        "    with open(img_path + os.path.basename(lnk), \"wb\") as f:\n",
        "      f.write(requests.get(lnk).content)\n",
        "  print('Finished processing album {}'.format(a_num))"
      ],
      "execution_count": 0,
      "outputs": []
    }
  ]
}