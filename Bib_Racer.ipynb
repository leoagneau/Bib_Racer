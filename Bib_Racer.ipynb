{
  "nbformat": 4,
  "nbformat_minor": 0,
  "metadata": {
    "colab": {
      "name": "Bib_Racer",
      "provenance": [],
      "collapsed_sections": [],
      "toc_visible": true,
      "authorship_tag": "ABX9TyP0V0v2NkOQgIhmCUJV/PFi"
    },
    "kernelspec": {
      "name": "python3",
      "display_name": "Python 3"
    },
    "accelerator": "GPU"
  },
  "cells": [
    {
      "cell_type": "markdown",
      "metadata": {
        "id": "kBm50BCNW9jF",
        "colab_type": "text"
      },
      "source": [
        "## Prepare drive"
      ]
    },
    {
      "cell_type": "code",
      "metadata": {
        "id": "eBf1xdsmcuXr",
        "colab_type": "code",
        "colab": {}
      },
      "source": [
        "# Mount Google Drive\n",
        "from google.colab import drive\n",
        "drive.mount('/content/drive')\n",
        "# Set data path\n",
        "#root_path = '/content/drive/My Drive/'\n",
        "#proj_path = root_path + 'ML_Projects/Bib_Racer/'\n",
        "!ln -s /content/drive/My\\ Drive/ML_Projects/Bib_Racer /content/bib_racer\n",
        "proj_path = '/content/bib_racer/'\n",
        "data_path = proj_path + 'data/'"
      ],
      "execution_count": 0,
      "outputs": []
    },
    {
      "cell_type": "markdown",
      "metadata": {
        "id": "_vGDc-GPX2lF",
        "colab_type": "text"
      },
      "source": [
        "## Install Yolo & prepare to train custom objects\n",
        "https://github.com/AlexeyAB/darknet/#how-to-train-to-detect-your-custom-objects"
      ]
    },
    {
      "cell_type": "markdown",
      "metadata": {
        "id": "-p6OBAGaioms",
        "colab_type": "text"
      },
      "source": [
        "### Install Yolo AlexeyAB fork and prepare metadata"
      ]
    },
    {
      "cell_type": "code",
      "metadata": {
        "colab_type": "code",
        "id": "xVUwORfdY1oY",
        "colab": {}
      },
      "source": [
        "%cd /content/\n",
        "!rm -fr darknet\n",
        "!git clone https://github.com/AlexeyAB/darknet/\n",
        "%cd darknet"
      ],
      "execution_count": 0,
      "outputs": []
    },
    {
      "cell_type": "code",
      "metadata": {
        "id": "slVSP1izYHjq",
        "colab_type": "code",
        "colab": {}
      },
      "source": [
        "%cd /content/darknet\n",
        "%cp \"$proj_path\"Makefile ./\n",
        "!make"
      ],
      "execution_count": 0,
      "outputs": []
    },
    {
      "cell_type": "code",
      "metadata": {
        "id": "x2iI-m64EbuQ",
        "colab_type": "code",
        "colab": {}
      },
      "source": [
        "!cp \"$data_path\"yolo_cfg/yolo-obj.cfg /content/darknet/build/darknet/x64/cfg/\n",
        "!cp \"$data_path\"yolo_cfg/obj.names /content/darknet/build/darknet/x64/data/\n",
        "!cp \"$data_path\"yolo_cfg/obj.data /content/darknet/build/darknet/x64/data/\n",
        "#!cp \"$data_path\"/yolo_cfg/train.txt /content/darknet/build/darknet/x64/data/\n",
        "!cp \"$data_path\"yolo_cfg/valid.txt /content/darknet/build/darknet/x64/data/\n",
        "!cp \"$data_path\"yolov3.weights /content/darknet/"
      ],
      "execution_count": 0,
      "outputs": []
    },
    {
      "cell_type": "markdown",
      "metadata": {
        "id": "4IlBqjqZ0kQO",
        "colab_type": "text"
      },
      "source": [
        "## Start of bib_detection.py"
      ]
    },
    {
      "cell_type": "code",
      "metadata": {
        "id": "hrjE7eWUw-oH",
        "colab_type": "code",
        "colab": {}
      },
      "source": [
        "from google.colab.patches import cv2_imshow\n",
        "import numpy as np\n",
        "#import argparse\n",
        "import cv2\n",
        "import os\n",
        "\n",
        "#ap = argparse.ArgumentParser()\n",
        "#ap.add_argument(\"-i\", \"--image\", required=True, help=\"path to input image\")\n",
        "#args = vars(ap.parse_args())\n",
        "\n",
        "# default parameters\n",
        "#image_path = \"/content/bib_racer/data/images/train_tiny_50files/1024_1452FC8A-D90F-3E10-4BB6-B4B7CE5BB67D.jpg\"\n",
        "image_path = \"/content/darknet/data/eagle.jpg\"\n",
        "yolo_dir = \"/content/darknet/\"\n",
        "base_dir = \"/content/bib_racer/\"\n",
        "confidence_default = 0.5\n",
        "threshold = 0.25\n",
        "\n",
        "# load class labels\n",
        "data_dir = base_dir+\"data/\"\n",
        "meta_dir = data_dir+\"yolo_cfg/\"\n",
        "#labels = open(meta_dir+\"obj.names\").read().strip().split(\"\\n\")\n",
        "labels = open(\"/content/darknet/data/coco.names\").read().strip().split(\"\\n\")\n",
        "\n",
        "# load YOLO weights and configuration file\n",
        "#cfg = meta_dir+\"yolo-obj.cfg\"\n",
        "#weight = data_dir+\"weights_backup/yolo-obj_4000.weights\"\n",
        "cfg = yolo_dir+\"cfg/yolov3.cfg\"\n",
        "weight = yolo_dir+\"yolov3.weights\"\n",
        "# load YOLO detector trained on custom dataset\n",
        "net = cv2.dnn.readNetFromDarknet(cfg, weight)\n",
        "\n",
        "# determine the output layer names\n",
        "l_names = net.getLayerNames()\n",
        "ol_names = [l_names[i[0]-1] for i in net.getUnconnectedOutLayers()]"
      ],
      "execution_count": 0,
      "outputs": []
    },
    {
      "cell_type": "code",
      "metadata": {
        "id": "8VY6cg0INYyV",
        "colab_type": "code",
        "colab": {}
      },
      "source": [
        "# load the image\n",
        "image = cv2.imread(image_path)\n",
        "(H,W) = image.shape[:2]\n",
        "\n",
        "# construct a blob from the input image, pass to the YOLO detector and\n",
        "# grab the bounding boxes and associated probabilities\n",
        "blob = cv2.dnn.blobFromImage(image, 1, (416,416), swapRB=True, crop=False)\n",
        "net.setInput(blob)\n",
        "layer_outputs = net.forward(ol_names)"
      ],
      "execution_count": 0,
      "outputs": []
    },
    {
      "cell_type": "code",
      "metadata": {
        "id": "8YBlQ5EYfOEb",
        "colab_type": "code",
        "colab": {}
      },
      "source": [
        "# initialize some output lists\n",
        "boxes = []\n",
        "confidences = []\n",
        "classIDs = []\n",
        "\n",
        "# output of YOLO [0:4]: [center_x, center_y, box_w, box_h]\n",
        "# output of YOLO [4]: confidence\n",
        "# output of YOLO [5:]: class scores\n",
        "for output in layer_outputs:\n",
        "  print(output.shape)\n",
        "  for detection in output:\n",
        "    scores = detection[5:]\n",
        "    classID = np.argmax(scores)\n",
        "    confidence = scores[classID]\n",
        "\n",
        "    if confidence > confidence_default:\n",
        "       (center_x, center_y, width, height) = (detection[0:4] * ([W, H, W, H])).astype(\"int\")\n",
        "       x = int(center_x - (width/2))\n",
        "       y = int(center_y - (height/2))\n",
        "       boxes.append([x, y, int(width), int(height)])\n",
        "       confidences.append(float(confidence))\n",
        "       classIDs.append(classID)"
      ],
      "execution_count": 0,
      "outputs": []
    },
    {
      "cell_type": "code",
      "metadata": {
        "id": "jpjO_BgarTVp",
        "colab_type": "code",
        "colab": {}
      },
      "source": [
        "idxs = cv2.dnn.NMSBoxes(boxes, confidences, confidence_default, threshold)"
      ],
      "execution_count": 0,
      "outputs": []
    },
    {
      "cell_type": "code",
      "metadata": {
        "id": "eL3U8zl5q516",
        "colab_type": "code",
        "colab": {}
      },
      "source": [
        "# fancy: initialize a list of colors to represent each possible class label\n",
        "np.random.seed(42)\n",
        "COLORS = np.random.randint(0, 255, size=(len(labels), 3),\tdtype=\"uint8\")\n",
        "\n",
        "if len(idxs) > 0:\n",
        "  for i in idxs.flatten():\n",
        "    (x,y) = (boxes[i][0], boxes[i][1])\n",
        "    (w,h) = (boxes[i][2], boxes[i][3])\n",
        "    color = [int(c) for c in COLORS[classIDs[i]]]\n",
        "    cv2.rectangle(image, (x,y), (x+w, y+h), color, 2)\n",
        "    text = \"{}: {:.4f}\".format(labels[classIDs[i]], confidences[i])\n",
        "    cv2.putText(image, text, (x, y-5), cv2.FONT_HERSHEY_SIMPLEX, 0.5, color, 2)\n",
        "\n",
        "cv2_imshow(image)"
      ],
      "execution_count": 0,
      "outputs": []
    },
    {
      "cell_type": "markdown",
      "metadata": {
        "id": "iIIAx7X8cUc5",
        "colab_type": "text"
      },
      "source": [
        "## (Test)"
      ]
    },
    {
      "cell_type": "code",
      "metadata": {
        "id": "_zWUr66kcPda",
        "colab_type": "code",
        "colab": {}
      },
      "source": [
        "#cv2_imshow(image)\n",
        "idxs"
      ],
      "execution_count": 0,
      "outputs": []
    }
  ]
}